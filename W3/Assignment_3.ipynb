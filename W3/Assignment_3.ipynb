{
  "nbformat": 4,
  "nbformat_minor": 0,
  "metadata": {
    "colab": {
      "name": "Copia de Copy of Copia de Copy of Copy of Assignment_3.ipynb",
      "provenance": [],
      "collapsed_sections": [],
      "include_colab_link": true
    },
    "kernelspec": {
      "name": "python3",
      "display_name": "Python 3"
    }
  },
  "cells": [
    {
      "cell_type": "markdown",
      "metadata": {
        "id": "view-in-github",
        "colab_type": "text"
      },
      "source": [
        "<a href=\"https://colab.research.google.com/github/DrAlexSanz/Alex-news-bot/blob/master/W3/Assignment_3.ipynb\" target=\"_parent\"><img src=\"https://colab.research.google.com/assets/colab-badge.svg\" alt=\"Open In Colab\"/></a>"
      ]
    },
    {
      "cell_type": "markdown",
      "metadata": {
        "id": "YOXGYc6uXpTu"
      },
      "source": [
        "# Language Models: Auto-Complete\n",
        "In this assignment, you will build an auto-complete system. Auto-complete system is something you may see every day\n",
        "\n",
        "When you google something, you often have suggestions to help you complete your search.\n",
        "When you are writing an email, you get suggestions telling you possible endings to your sentence.\n",
        "By the end of this assignment, you will develop a prototype of such a system.\n",
        "\n",
        "A key building block for an auto-complete system is a language model. A language model assigns the probability to a sequence of words, in a way that more \"likely\" sequences receive higher scores. For example,\n",
        "\n",
        "* \"I have a pen\" is expected to have a higher probability than \"I am a pen\" since the first one seems to be a more natural sentence in the real world.\n",
        "\n",
        "You can take advantage of this probability calculation to develop an auto-complete system.\n",
        "Suppose the user typed\n",
        "\n",
        "* \"I eat scrambled\" Then you can find a word x such that \"I eat scrambled x\" receives the highest probability. If x = \"eggs\", the sentence would be \"I eat scrambled eggs\"\n",
        "\n",
        "While a variety of language models have been developed, this assignment uses N-grams, a simple but powerful method for language modeling.\n",
        "\n",
        "* N-grams are also used in machine translation and speech recognition.\n",
        "Here are the steps of this assignment:\n",
        "\n",
        "1. Load and preprocess data\n",
        "2. Load and tokenize data.\n",
        "3. Split the sentences into train and test sets.\n",
        "4. Replace words with a low frequency by an unknown marker <unk>.\n",
        "5. Develop N-gram based language models\n",
        "  * Compute the count of n-grams from a given data set.\n",
        "  * Estimate the conditional probability of a next word with k-smoothing.\n",
        "6. Evaluate the N-gram models by computing the perplexity score.\n",
        "7. Use your own model to suggest an upcoming word given your sentence."
      ]
    },
    {
      "cell_type": "code",
      "metadata": {
        "id": "KLaNjwIKXobG",
        "outputId": "9d338996-16ad-4f69-c266-93305afa0507",
        "colab": {
          "base_uri": "https://localhost:8080/"
        }
      },
      "source": [
        "import math\n",
        "import random\n",
        "import numpy as np\n",
        "import pandas as pd\n",
        "import nltk\n",
        "nltk.download('punkt')\n",
        "nltk.data.path.append('.')\n",
        "\n",
        "!wget https://raw.githubusercontent.com/DrAlexSanz/NLP-SPEC-C2/master/W3/en_US.twitter.txt"
      ],
      "execution_count": 1,
      "outputs": [
        {
          "output_type": "stream",
          "text": [
            "[nltk_data] Downloading package punkt to /root/nltk_data...\n",
            "[nltk_data]   Unzipping tokenizers/punkt.zip.\n",
            "--2020-11-11 20:20:45--  https://raw.githubusercontent.com/DrAlexSanz/NLP-SPEC-C2/master/W3/en_US.twitter.txt\n",
            "Resolving raw.githubusercontent.com (raw.githubusercontent.com)... 151.101.0.133, 151.101.64.133, 151.101.128.133, ...\n",
            "Connecting to raw.githubusercontent.com (raw.githubusercontent.com)|151.101.0.133|:443... connected.\n",
            "HTTP request sent, awaiting response... 200 OK\n",
            "Length: 3341555 (3.2M) [text/plain]\n",
            "Saving to: ‘en_US.twitter.txt’\n",
            "\n",
            "en_US.twitter.txt   100%[===================>]   3.19M  16.1MB/s    in 0.2s    \n",
            "\n",
            "2020-11-11 20:20:46 (16.1 MB/s) - ‘en_US.twitter.txt’ saved [3341555/3341555]\n",
            "\n"
          ],
          "name": "stdout"
        }
      ]
    },
    {
      "cell_type": "code",
      "metadata": {
        "id": "JHUfo3QPYLUn",
        "outputId": "020bcd31-fa39-4cbf-ed26-70f6be0d3e47",
        "colab": {
          "base_uri": "https://localhost:8080/",
          "height": 223
        }
      },
      "source": [
        "with open(\"en_US.twitter.txt\", \"r\") as f:\n",
        "    data = f.read()\n",
        "print(\"Data type:\", type(data))\n",
        "print(\"Number of letters:\", len(data))\n",
        "print(\"First 300 letters of the data\")\n",
        "print(\"-------\")\n",
        "display(data[0:300])\n",
        "print(\"-------\")\n",
        "\n",
        "print(\"Last 300 letters of the data\")\n",
        "print(\"-------\")\n",
        "display(data[-300:])\n",
        "print(\"-------\")"
      ],
      "execution_count": 2,
      "outputs": [
        {
          "output_type": "stream",
          "text": [
            "Data type: <class 'str'>\n",
            "Number of letters: 3335477\n",
            "First 300 letters of the data\n",
            "-------\n"
          ],
          "name": "stdout"
        },
        {
          "output_type": "display_data",
          "data": {
            "application/vnd.google.colaboratory.intrinsic+json": {
              "type": "string"
            },
            "text/plain": [
              "\"How are you? Btw thanks for the RT. You gonna be in DC anytime soon? Love to see you. Been way, way too long.\\nWhen you meet someone special... you'll know. Your heart will beat more rapidly and you'll smile for no reason.\\nthey've decided its more fun if I don't.\\nSo Tired D; Played Lazer Tag & Ran A \""
            ]
          },
          "metadata": {
            "tags": []
          }
        },
        {
          "output_type": "stream",
          "text": [
            "-------\n",
            "Last 300 letters of the data\n",
            "-------\n"
          ],
          "name": "stdout"
        },
        {
          "output_type": "display_data",
          "data": {
            "application/vnd.google.colaboratory.intrinsic+json": {
              "type": "string"
            },
            "text/plain": [
              "\"ust had one a few weeks back....hopefully we will be back soon! wish you the best yo\\nColombia is with an 'o'...“: We now ship to 4 countries in South America (fist pump). Please welcome Columbia to the Stunner Family”\\n#GutsiestMovesYouCanMake Giving a cat a bath.\\nCoffee after 5 was a TERRIBLE idea.\\n\""
            ]
          },
          "metadata": {
            "tags": []
          }
        },
        {
          "output_type": "stream",
          "text": [
            "-------\n"
          ],
          "name": "stdout"
        }
      ]
    },
    {
      "cell_type": "markdown",
      "metadata": {
        "id": "b1vm0cFo4niu"
      },
      "source": [
        "## Part 1.2 Pre-process the data\n",
        "Preprocess this data with the following steps:\n",
        "\n",
        "1. Split data into sentences using \"\\n\" as the delimiter.\n",
        "2. Split each sentence into tokens. Note that in this assignment we use \"token\" and \"words\" interchangeably.\n",
        "3. Assign sentences into train or test sets.\n",
        "4. Find tokens that appear at least N times in the training data.\n",
        "5. Replace tokens that appear less than N times by <unk>\n",
        "\n",
        "**Note: we omit validation data in this exercise.**\n",
        "\n",
        "In real applications, we should hold a part of data as a validation set and use it to tune our training.\n",
        "We skip this process for simplicity."
      ]
    },
    {
      "cell_type": "markdown",
      "metadata": {
        "id": "13vXjN8z4zta"
      },
      "source": [
        "## Exercise 01\n",
        "Split data into sentences."
      ]
    },
    {
      "cell_type": "code",
      "metadata": {
        "id": "lzLO_APa4w_z"
      },
      "source": [
        "def split_to_sentences(data):\n",
        "    \"\"\"\n",
        "    Take the full corpus and split into sentences.\n",
        "    Input:\n",
        "    data: a str that I read from the file\n",
        "    Output:\n",
        "    List of sentences    \n",
        "    \"\"\"\n",
        "    sent = data.split(\"\\n\")\n",
        "\n",
        "    # Remove leading and trailing spaces\n",
        "\n",
        "    sent = [s.strip() for s in sent]\n",
        "\n",
        "    # Remove empty sentences\n",
        "\n",
        "    sent = [s for s in sent if len(s) > 0]\n",
        "\n",
        "    return sent"
      ],
      "execution_count": 3,
      "outputs": []
    },
    {
      "cell_type": "code",
      "metadata": {
        "id": "kUcpze5M5pwT",
        "outputId": "2d4dca71-b945-4f6b-babc-f28c362ce370",
        "colab": {
          "base_uri": "https://localhost:8080/"
        }
      },
      "source": [
        "# Test\n",
        "\n",
        "X = \"\"\"\n",
        "I have a pen.\\nI have an apple. \\nAh\\nApple pen.\\n\n",
        "\"\"\"\n",
        "\n",
        "y = split_to_sentences(X)\n",
        "\n",
        "print(y)"
      ],
      "execution_count": 4,
      "outputs": [
        {
          "output_type": "stream",
          "text": [
            "['I have a pen.', 'I have an apple.', 'Ah', 'Apple pen.']\n"
          ],
          "name": "stdout"
        }
      ]
    },
    {
      "cell_type": "markdown",
      "metadata": {
        "id": "exNLro5y6GU4"
      },
      "source": [
        "## Exercise 02\n",
        "The next step is to tokenize sentences (split a sentence into a list of words).\n",
        "\n",
        "* Convert all tokens into lower case so that words which are capitalized (for example, at the start of a sentence) in the original text are treated the same as the lowercase versions of the words.\n",
        "* Append each tokenized list of words into a list of tokenized sentences.\n",
        "* Use str.lower to convert strings to lowercase.\n",
        "* Please use nltk.word_tokenize to split sentences into tokens.\n",
        "* If you used str.split instead of nltk.word_tokenize, there are additional edge cases to handle, such as the punctuation (comma, period) that follows a word."
      ]
    },
    {
      "cell_type": "code",
      "metadata": {
        "id": "YtPRTQZ96OMi"
      },
      "source": [
        "def tokenize_sentences(sentences):\n",
        "    \"\"\"\n",
        "    Take the previously split sentences to tokenize them\n",
        "    Input: List of sentences output from the first function\n",
        "    Output: List of list of tokens    \n",
        "    \"\"\"\n",
        "\n",
        "    # Make everything lowercase\n",
        "    # tokenize each word\n",
        "\n",
        "    tok_sent = []\n",
        "\n",
        "    for sent in sentences:\n",
        "        sent = sent.lower()\n",
        "        tokenized = nltk.word_tokenize(sent)\n",
        "        tok_sent.append(tokenized)\n",
        "\n",
        "    return tok_sent\n",
        "\n"
      ],
      "execution_count": 5,
      "outputs": []
    },
    {
      "cell_type": "code",
      "metadata": {
        "id": "GqFc1xqk81L5",
        "outputId": "234b8082-27d1-420d-c3fc-a8a6f9eee449",
        "colab": {
          "base_uri": "https://localhost:8080/"
        }
      },
      "source": [
        "# Test\n",
        "\n",
        "sentences = [\"Sky is blue.\", \"Leaves are green.\", \"Roses are red.\"]\n",
        "\n",
        "tok_test = tokenize_sentences(sentences)\n",
        "\n",
        "print(tok_test)"
      ],
      "execution_count": 6,
      "outputs": [
        {
          "output_type": "stream",
          "text": [
            "[['sky', 'is', 'blue', '.'], ['leaves', 'are', 'green', '.'], ['roses', 'are', 'red', '.']]\n"
          ],
          "name": "stdout"
        }
      ]
    },
    {
      "cell_type": "markdown",
      "metadata": {
        "id": "aQsLcuV_-OfB"
      },
      "source": [
        "## Exercise 03\n",
        "Use the two functions that you have just implemented to get the tokenized data.\n",
        "\n",
        "1. Split the data into sentences.\n",
        "2. Tokenize those sentences."
      ]
    },
    {
      "cell_type": "code",
      "metadata": {
        "id": "SjdbHCk3-Tje"
      },
      "source": [
        "def tokenize_data(data):\n",
        "    \"\"\"\n",
        "    Take the data from the assignment and tokenize it\n",
        "    Input: Data, a str read from the file\n",
        "    Output: list of lists with tokenized data\n",
        "    \"\"\"\n",
        "\n",
        "    sentences = split_to_sentences(data)\n",
        "    tokens = tokenize_sentences(sentences)\n",
        "\n",
        "    return tokens"
      ],
      "execution_count": 7,
      "outputs": []
    },
    {
      "cell_type": "code",
      "metadata": {
        "id": "muqIC1ve-z8e",
        "outputId": "b8eaa299-90aa-4811-ce10-92db9b84471d",
        "colab": {
          "base_uri": "https://localhost:8080/"
        }
      },
      "source": [
        "# TEST\n",
        "x = \"Sky is blue.\\nLeaves are green\\nRoses are red.\"\n",
        "tokenize_data(x)"
      ],
      "execution_count": 8,
      "outputs": [
        {
          "output_type": "execute_result",
          "data": {
            "text/plain": [
              "[['sky', 'is', 'blue', '.'],\n",
              " ['leaves', 'are', 'green'],\n",
              " ['roses', 'are', 'red', '.']]"
            ]
          },
          "metadata": {
            "tags": []
          },
          "execution_count": 8
        }
      ]
    },
    {
      "cell_type": "markdown",
      "metadata": {
        "id": "Smeouye3_MT2"
      },
      "source": [
        "## Split into train and test sets."
      ]
    },
    {
      "cell_type": "code",
      "metadata": {
        "id": "6jokabAk_E9X",
        "outputId": "4d8d2fc4-304d-4132-b496-6fc5bccbe884",
        "colab": {
          "base_uri": "https://localhost:8080/"
        }
      },
      "source": [
        "tokenized_data = tokenize_data(data)\n",
        "\n",
        "random.seed(13)\n",
        "\n",
        "random.shuffle(tokenized_data)\n",
        "\n",
        "train_size = 0.8\n",
        "\n",
        "train_data = tokenized_data[0:int(train_size * len(tokenized_data))]\n",
        "test_data = tokenized_data[int(train_size * len(tokenized_data)):]\n",
        "\n",
        "print(\"The {} data is split in {} train and {} test examples\".format(len(tokenized_data), len(train_data), len(test_data)))\n",
        "\n",
        "print(\"The first train sample is:\", train_data[0])\n",
        "print(\"The first test sample is:\", test_data[0])"
      ],
      "execution_count": 9,
      "outputs": [
        {
          "output_type": "stream",
          "text": [
            "The 47961 data is split in 38368 train and 9593 test examples\n",
            "The first train sample is: ['i', 'miss', 'you', 'too', '!']\n",
            "The first test sample is: ['haha', 'just', 'txt', 'me']\n"
          ],
          "name": "stdout"
        }
      ]
    },
    {
      "cell_type": "markdown",
      "metadata": {
        "id": "XyqysFzOBR-e"
      },
      "source": [
        "## Exercise 04\n",
        "You won't use all the tokens (words) appearing in the data for training. Instead, you will use the more frequently used words.\n",
        "\n",
        "You will focus on the words that appear at least N times in the data.\n",
        "* First count how many times each word appears in the data.\n",
        "* You will need a double for-loop, one for sentences and the other for tokens within a sentence.\n",
        "\n",
        "* If you decide to import and use defaultdict, remember to cast the dictionary back to a regular 'dict' before returning it."
      ]
    },
    {
      "cell_type": "code",
      "metadata": {
        "id": "lfuVfB4XBnIs"
      },
      "source": [
        "def count_words(tokenized_sentences):\n",
        "    \"\"\"\n",
        "    Count how many times a word appears in the data\n",
        "    Input:\n",
        "    List of list of words\n",
        "    Output:\n",
        "    Dictionary where keys are words and values are the counts\n",
        "    \"\"\"\n",
        "    word_counts = {}\n",
        "\n",
        "    # Go through each sentence. Inside each sentence go through each word.\n",
        "    for sent in tokenized_sentences:\n",
        "        for w in sent:\n",
        "          # If the word is not included yet, include it and count that I have seen it once.\n",
        "            if w not in word_counts.keys():\n",
        "                word_counts[w] = 1\n",
        "          # If the word already exists, add 1.\n",
        "            else:\n",
        "                word_counts[w] += 1\n",
        "    \n",
        "    return word_counts\n"
      ],
      "execution_count": 10,
      "outputs": []
    },
    {
      "cell_type": "code",
      "metadata": {
        "id": "XHxGyVjYC9UN",
        "outputId": "48efc595-d601-46de-af50-afadae116d0b",
        "colab": {
          "base_uri": "https://localhost:8080/"
        }
      },
      "source": [
        "test_a = [['sky', 'is', 'blue', '.'],\n",
        "                       ['leaves', 'are', 'green', '.'],\n",
        "                       ['roses', 'are', 'red', '.']]\n",
        "\n",
        "a = count_words(test_a)\n",
        "\n",
        "print(a)"
      ],
      "execution_count": 11,
      "outputs": [
        {
          "output_type": "stream",
          "text": [
            "{'sky': 1, 'is': 1, 'blue': 1, '.': 3, 'leaves': 1, 'are': 2, 'green': 1, 'roses': 1, 'red': 1}\n"
          ],
          "name": "stdout"
        }
      ]
    },
    {
      "cell_type": "markdown",
      "metadata": {
        "id": "TI7yrvcNDSkQ"
      },
      "source": [
        "## Handling 'Out of Vocabulary' words\n",
        "If your model is performing autocomplete, but encounters a word that it never saw during training, it won't have an input word to help it determine the next word to suggest. The model will not be able to predict the next word because there are no counts for the current word.\n",
        "\n",
        "* This 'new' word is called an 'unknown word', or out of vocabulary (OOV) words.\n",
        "* The percentage of unknown words in the test set is called the OOV rate.\n",
        "\n",
        "To handle unknown words during prediction, use a special token to represent all unknown words 'unk'.\n",
        "\n",
        "* Modify the training data so that it has some 'unknown' words to train on.\n",
        "* Words to convert into \"unknown\" words are those that do not occur very frequently in the training set.\n",
        "* Create a list of the most frequent words in the training set, called the closed vocabulary .\n",
        "* Convert all the other words that are not part of the closed vocabulary to the token 'unk'."
      ]
    },
    {
      "cell_type": "markdown",
      "metadata": {
        "id": "Z__FbUYsDhvc"
      },
      "source": [
        "## Exercise 05\n",
        "You will now create a function that takes in a text document and a threshold 'count_threshold'.\n",
        "\n",
        "Any word whose count is greater than or equal to the threshold 'count_threshold' is kept in the closed vocabulary.\n",
        "used that you want to keep, returns the document containing only the word closed vocabulary and the word unk."
      ]
    },
    {
      "cell_type": "code",
      "metadata": {
        "id": "cTP-W__gEKqh"
      },
      "source": [
        "def get_words_with_nplus_freq(tokenized_sentences, count_threshold):\n",
        "    \"\"\"\n",
        "    Keep only the words that appear frequently. I will replace the others by <UNK>\n",
        "\n",
        "    input: the tokenized sentences (list of lists) and a number\n",
        "    Output: Vocabulary list    \n",
        "    \"\"\"\n",
        "\n",
        "    closed_vocab = []\n",
        "    word_count = count_words(tokenized_sentences)\n",
        "\n",
        "    for word, count in word_count.items():\n",
        "        if count >= count_threshold:\n",
        "            closed_vocab.append(word)\n",
        "\n",
        "    return closed_vocab"
      ],
      "execution_count": 12,
      "outputs": []
    },
    {
      "cell_type": "code",
      "metadata": {
        "id": "hOss_8bIFfvd",
        "outputId": "190f56de-5311-4de9-becc-d15fded0a2dc",
        "colab": {
          "base_uri": "https://localhost:8080/"
        }
      },
      "source": [
        "# Test\n",
        "\n",
        "a_sentences = [['sky', 'is', 'blue', '.'],\n",
        "                       ['leaves', 'are', 'green', '.'],\n",
        "                       ['roses', 'are', 'red', '.']]\n",
        "\n",
        "a_vocab = get_words_with_nplus_freq(a_sentences, count_threshold = 2)\n",
        "print(a_vocab)"
      ],
      "execution_count": 13,
      "outputs": [
        {
          "output_type": "stream",
          "text": [
            "['.', 'are']\n"
          ],
          "name": "stdout"
        }
      ]
    },
    {
      "cell_type": "markdown",
      "metadata": {
        "id": "YgKYVS9kFzWP"
      },
      "source": [
        "## Exercise 06\n",
        "The words that appear 'count_threshold' times or more are in the 'closed vocabulary.\n",
        "\n",
        "* All other words are regarded as 'unknown'.\n",
        "* Replace words not in the closed vocabulary with the token \"<unk>\"."
      ]
    },
    {
      "cell_type": "code",
      "metadata": {
        "id": "WMnuwewA245x"
      },
      "source": [
        "def replace_oov_unk(tokenized_sentences, vocabulary, unknown_token = \"<UNK>\"):\n",
        "    \"\"\"\n",
        "    Replace words outside the vocab with <UNK>\n",
        "    Input:\n",
        "    Tokenized sentence, a list of lists with the words\n",
        "    Vocab: a list of strings with the possible words\n",
        "    Output:\n",
        "    A modified list of list with the tokenized sentences\n",
        "    \"\"\"\n",
        "\n",
        "    voc_set = set(vocabulary) # Faster search\n",
        "    mod_sentences = []\n",
        "\n",
        "    for sent in tokenized_sentences:\n",
        "        curr_sentence = []\n",
        "        for w in sent:\n",
        "            if w in voc_set:\n",
        "                curr_sentence.append(w)\n",
        "            else:\n",
        "                curr_sentence.append(unknown_token)\n",
        "        mod_sentences.append(curr_sentence)\n",
        "\n",
        "    return mod_sentences\n"
      ],
      "execution_count": 14,
      "outputs": []
    },
    {
      "cell_type": "code",
      "metadata": {
        "id": "Ffmlamrf5PE4",
        "outputId": "63d74eb1-69e5-4f07-8ffa-bb017874de69",
        "colab": {
          "base_uri": "https://localhost:8080/"
        }
      },
      "source": [
        "tok_sent = [[\"dogs\", \"run\"], [\"cats\", \"sleep\"]]\n",
        "\n",
        "voc = [\"dogs\", \"sleep\"]\n",
        "\n",
        "test_replace = replace_oov_unk(tok_sent, voc)\n",
        "print(\"Original senteces:\", tok_sent)\n",
        "print(\"Modified sentences:\", test_replace)"
      ],
      "execution_count": 15,
      "outputs": [
        {
          "output_type": "stream",
          "text": [
            "Original senteces: [['dogs', 'run'], ['cats', 'sleep']]\n",
            "Modified sentences: [['dogs', '<UNK>'], ['<UNK>', 'sleep']]\n"
          ],
          "name": "stdout"
        }
      ]
    },
    {
      "cell_type": "markdown",
      "metadata": {
        "id": "vQekWGNw534u"
      },
      "source": [
        "## Exercise 07\n",
        "Now we are ready to process our data by combining the functions that you just implemented.\n",
        "\n",
        "* Find tokens that appear at least count_threshold times in the training data.\n",
        "* Replace tokens that appear less than count_threshold times by \"<unk>\" both for training and test data."
      ]
    },
    {
      "cell_type": "code",
      "metadata": {
        "id": "9XiLRhAm58g-"
      },
      "source": [
        "def preprocess_data(train_data, test_data, count_threshold):\n",
        "    \"\"\"\n",
        "    Find tokens that appear N times in the train data\n",
        "    Replace the ones that don't appear enough by a <UNK> token\n",
        "    Input:\n",
        "    Train and test data: List of lists with the tokenized sentences\n",
        "    Output:\n",
        "    A tuple with train and test_data modified with the UNK replacement\n",
        "    A vocabulary list\n",
        "    \"\"\"\n",
        "\n",
        "    vocabulary = get_words_with_nplus_freq(train_data, count_threshold)\n",
        "\n",
        "    train_data_replaced = replace_oov_unk(train_data, vocabulary)\n",
        "\n",
        "    test_data_replaced = replace_oov_unk(test_data, vocabulary)\n",
        "\n",
        "    return train_data_replaced, test_data_replaced, vocabulary"
      ],
      "execution_count": 16,
      "outputs": []
    },
    {
      "cell_type": "code",
      "metadata": {
        "id": "hwHwv8oSDsjg",
        "outputId": "8ba3e232-aaba-4fd2-8d6b-daeec509bffc",
        "colab": {
          "base_uri": "https://localhost:8080/"
        }
      },
      "source": [
        "tmp_train = [[\"Sky\", \"is\", \"blue\", \".\"], [\"leaves\", \"are\", \"green\", \".\"]]\n",
        "\n",
        "tmp_test = [['roses', 'are', 'red', '.']]\n",
        "\n",
        "tmp_train_rep, tmp_test_rep, tmp_voc = preprocess_data(tmp_train, tmp_test, count_threshold = 1)\n",
        "\n",
        "print(\"tmp_train_repl\")\n",
        "print(tmp_train_rep)\n",
        "print()\n",
        "print(\"tmp_test_repl\")\n",
        "print(tmp_test_rep)\n",
        "print()\n",
        "print(\"tmp_vocab\")\n",
        "print(tmp_voc)"
      ],
      "execution_count": 17,
      "outputs": [
        {
          "output_type": "stream",
          "text": [
            "tmp_train_repl\n",
            "[['Sky', 'is', 'blue', '.'], ['leaves', 'are', 'green', '.']]\n",
            "\n",
            "tmp_test_repl\n",
            "[['<UNK>', 'are', '<UNK>', '.']]\n",
            "\n",
            "tmp_vocab\n",
            "['Sky', 'is', 'blue', '.', 'leaves', 'are', 'green']\n"
          ],
          "name": "stdout"
        }
      ]
    },
    {
      "cell_type": "markdown",
      "metadata": {
        "id": "3molHLf-ACsA"
      },
      "source": [
        "# Part 2: Develop n-gram based language models\n",
        "In this section, you will develop the n-grams language model.\n",
        "\n",
        "* Assume the probability of the next word depends only on the previous n-gram.\n",
        "* The previous n-gram is the series of the previous 'n' words.\n",
        "\n",
        "The conditional probability for the word at position 't' in the sentence, given that the words preceding it are $w_{t-1}, w_{t-2} \\cdots w_{t-n}$ is:\n",
        "\n",
        "$$ P(w_t | w_{t-1}\\dots w_{t-n}) \\tag{1}$$\n",
        "You can estimate this probability by counting the occurrences of these series of words in the training data.\n",
        "\n",
        "* The probability can be estimated as a ratio, where\n",
        "* The numerator is the number of times word 't' appears after words t-1 through t-n appear in the training data.\n",
        "* The denominator is the number of times word t-1 through t-n appears in the training data.\n",
        "$$ \\hat{P}(w_t | w_{t-1}\\dots w_{t-n}) = \\frac{C(w_{t-1}\\dots w_{t-n}, w_n)}{C(w_{t-1}\\dots w_{t-n})} \\tag{2} $$\n",
        "\n",
        "* The function $C(\\cdots)$ denotes the number of occurence of the given sequence.\n",
        "$\\hat{P}$ means the estimation of $P$.\n",
        "* Notice that denominator of the equation (2) is the number of occurence of the previous $n$ words, and the numerator is the same sequence followed by the word $w_t$.\n",
        "\n",
        "Later, you will modify the equation (2) by adding k-smoothing, which avoids errors when any counts are zero.\n",
        "\n",
        "The equation (2) tells us that to estimate probabilities based on n-grams, you need the counts of n-grams (for denominator) and (n+1)-grams (for numerator)."
      ]
    },
    {
      "cell_type": "markdown",
      "metadata": {
        "id": "beZitHofAaKo"
      },
      "source": [
        "## Exercise 08\n",
        "Next, you will implement a function that computes the counts of n-grams for an arbitrary number $n$.\n",
        "\n",
        "When computing the counts for n-grams, prepare the sentence beforehand by prepending $n-1$ starting markers \"<--S-->\" to indicate the beginning of the sentence.\n",
        "\n",
        "* For example, in the bi-gram model (N=2), a sequence with two start tokens \"\"<--S-->\"\"<--S-->\"\" should predict the first word of a sentence.\n",
        "* So, if the sentence is \"I like food\", modify it to be \"\"<--S-->\"\"<--S-->\" I like food\".\n",
        "* Also prepare the sentence for counting by appending an end token \"<--E-->\" so that the model can predict when to finish a sentence.\n",
        "\n",
        "Technical note: In this implementation, you will store the counts as a dictionary.\n",
        "\n",
        "* The key of each key-value pair in the dictionary is a tuple of n words (and not a list)\n",
        "* The value in the key-value pair is the number of occurrences.\n",
        "* The reason for using a tuple as a key instead of a list is because a list in Python is a mutable object (it can be changed after it is first created). A tuple is \"immutable\", so it cannot be altered after it is first created. This makes a tuple suitable as a data type for the key in a dictionary.\n",
        "* To prepend or append, you can create lists and concatenate them using the + operator\n",
        "* To create a list of a repeated value, you can follow this syntax: ['a'] * 3 to get ['a','a','a']\n",
        "* To set the range for index 'i', think of this example: An n-gram where n=2 (bigram), and the sentence is length N=5 (including two start tokens and one end token). So the index positions are [0,1,2,3,4]. The largest index 'i' where a bigram can start is at position i=3, because the word tokens at position 3 and 4 will form the bigram.\n",
        "* Remember that the range() function excludes the value that is used for the maximum of the range.  range(3)  produces (0,1,2) but excludes 3."
      ]
    },
    {
      "cell_type": "code",
      "metadata": {
        "id": "EAExD0VpBCNJ"
      },
      "source": [
        "def count_n_grams(data, n, start_token = \"<S>\", end_token = \"<E>\"):\n",
        "    \"\"\"\n",
        "    Count all N-grams in the data\n",
        "    Input:\n",
        "      training data, a list of lists of words\n",
        "      n is the n in ngrams\n",
        "    Output:\n",
        "      A dictionary where the keys are tuples of ngrams and values are the counts\n",
        "    \"\"\"\n",
        "\n",
        "    n_grams = {} # Empty dict\n",
        "\n",
        "    for sentence in data:\n",
        "        # Add start token N times and end token once\n",
        "        sentence = [start_token] * n + sentence + [end_token]\n",
        "        # Make it a tuple (for the dict)\n",
        "        sentence = tuple(sentence)\n",
        "\n",
        "        # Now i is the start of the sentence (indexing at 0)\n",
        "        m = len(sentence) if n == 1 else len(sentence) - 1\n",
        "\n",
        "        for i in range(m):\n",
        "            n_gram = sentence[i:i+n]\n",
        "\n",
        "            if n_gram in n_grams.keys(): # If I have it, add one to the count\n",
        "                n_grams[n_gram] += 1\n",
        "            else:\n",
        "                n_grams[n_gram] = 1 # If I don't have it yet, add it\n",
        "        \n",
        "    return n_grams\n",
        "\n",
        "\n",
        "    "
      ],
      "execution_count": 18,
      "outputs": []
    },
    {
      "cell_type": "code",
      "metadata": {
        "id": "kWKfrDcgJBuz",
        "outputId": "9a55482d-4783-4a70-dbbb-7f65730cfdd5",
        "colab": {
          "base_uri": "https://localhost:8080/"
        }
      },
      "source": [
        "sentences = [['i', 'like', 'a', 'cat'],\n",
        "             ['this', 'dog', 'is', 'like', 'a', 'cat']]\n",
        "\n",
        "print(\"Unigram\")\n",
        "uni = count_n_grams(sentences, 1)\n",
        "print(uni)\n",
        "print(\"Bigrams\")\n",
        "bi = count_n_grams(sentences, 2)\n",
        "print(bi)"
      ],
      "execution_count": 19,
      "outputs": [
        {
          "output_type": "stream",
          "text": [
            "Unigram\n",
            "{('<S>',): 2, ('i',): 1, ('like',): 2, ('a',): 2, ('cat',): 2, ('<E>',): 2, ('this',): 1, ('dog',): 1, ('is',): 1}\n",
            "Bigrams\n",
            "{('<S>', '<S>'): 2, ('<S>', 'i'): 1, ('i', 'like'): 1, ('like', 'a'): 2, ('a', 'cat'): 2, ('cat', '<E>'): 2, ('<S>', 'this'): 1, ('this', 'dog'): 1, ('dog', 'is'): 1, ('is', 'like'): 1}\n"
          ],
          "name": "stdout"
        }
      ]
    },
    {
      "cell_type": "markdown",
      "metadata": {
        "id": "_xSOO33XJx2M"
      },
      "source": [
        "## Exercise 09\n",
        "Next, estimate the probability of a word given the prior 'n' words using the n-gram counts.\n",
        "\n",
        "$$ \\hat{P}(w_t | w_{t-1}\\dots w_{t-n}) = \\frac{C(w_{t-1}\\dots w_{t-n}, w_n)}{C(w_{t-1}\\dots w_{t-n})} \\tag{2} $$\n",
        "This formula doesn't work when a count of an n-gram is zero..\n",
        "\n",
        "* Suppose we encounter an n-gram that did not occur in the training data.\n",
        "* Then, the equation (2) cannot be evaluated (it becomes zero divided by zero).\n",
        "\n",
        "A way to handle zero counts is to add k-smoothing.\n",
        "\n",
        "* K-smoothing adds a positive constant $k$ to each numerator and $k \\times |V|$ in the denominator, where $|V|$ is the number of words in the vocabulary.\n",
        "\n",
        "$$ \\hat{P}(w_t | w_{t-1}\\dots w_{t-n}) = \\frac{C(w_{t-1}\\dots w_{t-n}, w_n) + k}{C(w_{t-1}\\dots w_{t-n}) + k|V|} \\tag{3} $$\n",
        "\n",
        "For n-grams that have a zero count, the equation (3) becomes $\\frac{1}{|V|}$.\n",
        "\n",
        "* This means that any n-gram with zero count has the same probability of $\\frac{1}{|V|}$.\n",
        "\n",
        "Define a function that computes the probability estimate (3) from n-gram counts and a constant $k$.\n",
        "\n",
        "* The function takes in a dictionary 'n_gram_counts', where the key is the n-gram and the value is the count of that n-gram.\n",
        "* The function also takes another dictionary n_plus1_gram_counts, which you'll use to find the count for the previous n-gram plus the current word.\n",
        "* To define a tuple containing a single value, add a comma after that value. * * For example: ('apple',) is a tuple containing a single string 'apple'\n",
        "* To concatenate two tuples, use the '+' operator"
      ]
    },
    {
      "cell_type": "code",
      "metadata": {
        "id": "Fpc6r5V_ILzx"
      },
      "source": [
        "def estimate_probability(word, previous_ngram, n_gram_counts, n_plus1_gram_counts, vocab_size, k = 1):\n",
        "    \"\"\"\n",
        "    compute the probability of Ngrams based on eq. 3 above.\n",
        "    Input:\n",
        "    word is the current word\n",
        "    previous_ngram: sequence of previous n words\n",
        "    n_gram counts: dict with tuples of words as keys and counts as values\n",
        "    n_plus1_grams counts: Same as above, with one extra word\n",
        "    vocab_size: len of vocab\n",
        "    Output:\n",
        "    Probability, a number    \n",
        "    \"\"\"\n",
        "    # Convert list to tuple to use as a key\n",
        "    previous_n_gram = tuple(previous_ngram)\n",
        "\n",
        "    # Calc the denominator. \n",
        "    # If the previous n_gram exists in n_gram_counts, take the value\n",
        "    # Otherwise set it as 0\n",
        "    \n",
        "    previous_ngram_count = n_gram_counts[previous_n_gram] if previous_n_gram in n_gram_counts else 0\n",
        "    \n",
        "    denominator = previous_ngram_count + k * vocab_size\n",
        "\n",
        "    # Define the nplus1_gram as the previous one plus the word\n",
        "\n",
        "    n_plus1_gram = previous_n_gram + (word,) # Remark, it's a tuple!\n",
        "\n",
        "    # Same procedure as before:\n",
        "    n_plus1_gram_count = n_plus1_gram_counts[n_plus1_gram] if n_plus1_gram in n_plus1_gram_counts else 0\n",
        "\n",
        "    numerator = n_plus1_gram_count + k\n",
        "\n",
        "    prob = numerator/denominator\n",
        "\n",
        "    return prob"
      ],
      "execution_count": 20,
      "outputs": []
    },
    {
      "cell_type": "code",
      "metadata": {
        "id": "aojmHaVGLbSg",
        "outputId": "6751ca75-aacd-46dc-c1c3-33a8d07ecca3",
        "colab": {
          "base_uri": "https://localhost:8080/"
        }
      },
      "source": [
        "sentences = [['i', 'like', 'a', 'cat'],\n",
        "             ['this', 'dog', 'is', 'like', 'a', 'cat']]\n",
        "\n",
        "unique_words = list(set(sentences[0] + sentences[1]))\n",
        "\n",
        "unigram_counts = count_n_grams(sentences, 1)\n",
        "\n",
        "bigram_counts = count_n_grams(sentences, 2)\n",
        "\n",
        "tmp_prob = estimate_probability(\"cat\", \"a\", unigram_counts, bigram_counts, len(unique_words))\n",
        "\n",
        "print(f\"The probability of cat given a is: {tmp_prob:.4f}\")"
      ],
      "execution_count": 21,
      "outputs": [
        {
          "output_type": "stream",
          "text": [
            "The probability of cat given a is: 0.3333\n"
          ],
          "name": "stdout"
        }
      ]
    },
    {
      "cell_type": "markdown",
      "metadata": {
        "id": "6y1rAXdMM-XA"
      },
      "source": [
        "Estimate probabilities for all words\n",
        "\n",
        "The function defined below loops over all words in vocabulary to calculate probabilities for all possible words.\n"
      ]
    },
    {
      "cell_type": "code",
      "metadata": {
        "id": "0Ek4LdlrNAxO"
      },
      "source": [
        "def estimate_all_probabilities(previous_n_gram, n_gram_counts, n_plus1_counts, vocabulary, k = 1):\n",
        "    \"\"\"\n",
        "    Estimate the probabilities of next words using the n-gram counts with k-smoothing\n",
        "    \n",
        "    Args:\n",
        "        previous_n_gram: A sequence of words of length n\n",
        "        n_gram_counts: Dictionary of counts of (n+1)-grams\n",
        "        n_plus1_gram_counts: Dictionary of counts of (n+1)-grams\n",
        "        vocabulary: List of words\n",
        "        k: positive constant, smoothing parameter\n",
        "    \n",
        "    Returns:\n",
        "        A dictionary mapping from next words to the probability.\n",
        "    \"\"\"\n",
        "\n",
        "    previous_n_gram = tuple(previous_n_gram)\n",
        "\n",
        "    # Add <END> and <UNK> tokens. I don't need to add <S> because I shouldn't allow to output <S>\n",
        "\n",
        "    vocabulary = vocabulary + [\"<END>\", \"<UNK>\"]\n",
        "\n",
        "    vocab_size = len(vocabulary)\n",
        "\n",
        "    probabilities = {}\n",
        "\n",
        "    for word in vocabulary:\n",
        "        prob = estimate_probability(word, previous_n_gram, n_gram_counts, n_plus1_counts, vocab_size, k)\n",
        "\n",
        "        probabilities[word] = prob\n",
        "\n",
        "    \n",
        "    return probabilities\n"
      ],
      "execution_count": 22,
      "outputs": []
    },
    {
      "cell_type": "code",
      "metadata": {
        "id": "aijyassrO7sg",
        "outputId": "286ac0f5-d4ae-44e7-a41f-c3fa9a34adce",
        "colab": {
          "base_uri": "https://localhost:8080/"
        }
      },
      "source": [
        "sentences = [['i', 'like', 'a', 'cat'],\n",
        "             ['this', 'dog', 'is', 'like', 'a', 'cat']]\n",
        "unique_words = list(set(sentences[0] + sentences[1]))\n",
        "unigram_counts = count_n_grams(sentences, 1)\n",
        "bigram_counts = count_n_grams(sentences, 2)\n",
        "estimate_all_probabilities(\"a\", unigram_counts, bigram_counts, unique_words, k=1)"
      ],
      "execution_count": 23,
      "outputs": [
        {
          "output_type": "execute_result",
          "data": {
            "text/plain": [
              "{'<END>': 0.09090909090909091,\n",
              " '<UNK>': 0.09090909090909091,\n",
              " 'a': 0.09090909090909091,\n",
              " 'cat': 0.2727272727272727,\n",
              " 'dog': 0.09090909090909091,\n",
              " 'i': 0.09090909090909091,\n",
              " 'is': 0.09090909090909091,\n",
              " 'like': 0.09090909090909091,\n",
              " 'this': 0.09090909090909091}"
            ]
          },
          "metadata": {
            "tags": []
          },
          "execution_count": 23
        }
      ]
    },
    {
      "cell_type": "markdown",
      "metadata": {
        "id": "32QapTUpBfAN"
      },
      "source": [
        "Count and probability matrices\n",
        "As we have seen so far, the n-gram counts computed above are sufficient for computing the probabilities of the next word.\n",
        "\n",
        "* It can be more intuitive to present them as count or probability matrices.\n",
        "* The functions defined in the next cells return count or probability matrices."
      ]
    },
    {
      "cell_type": "code",
      "metadata": {
        "id": "vC5AsgWPBiB5"
      },
      "source": [
        "def make_count_matrix(n_plus1_gram_counts, vocabulary):\n",
        "    \"\"\"\n",
        "    Return the count matrix\n",
        "    Add <END> and <UNK>\n",
        "    Don't add <\\S> because it can't be predicted as the next word by definition    \n",
        "    \"\"\"\n",
        "    vocabulary = vocabulary + [\"<END>\"] + [\"<UNK>\"]\n",
        "\n",
        "    # Unique n-grams\n",
        "    n_grams = []\n",
        "\n",
        "    for n_plus1_gram in n_plus1_gram_counts.keys():\n",
        "        n_gram = n_plus1_gram[0:-1] # Last element of the tuple is the ,x. I don't want that.\n",
        "        n_grams.append(n_gram)\n",
        "    n_grams = list(set(n_grams)) # Unique\n",
        "\n",
        "    # Now map from n_gram to row\n",
        "\n",
        "    row_index = {n_gram:i for i, n_gram in enumerate(n_grams)}\n",
        "    # Mapping word to column\n",
        "    col_index = {word:j for j, word in enumerate(vocabulary)}\n",
        "    \n",
        "    n_row = len(n_grams)\n",
        "    n_col = len(vocabulary)\n",
        "    count_matrix = np.zeros((n_row, n_col))\n",
        "\n",
        "    for n_plus1_gram, count in n_plus1_gram_counts.items():\n",
        "        n_gram = n_plus1_gram[0:-1]\n",
        "        word = n_plus1_gram[-1]\n",
        "        if word not in vocabulary:\n",
        "            continue\n",
        "        i = row_index[n_gram]\n",
        "        j = col_index[word]\n",
        "        count_matrix[i, j] = count\n",
        "\n",
        "    count_matrix = pd.DataFrame(count_matrix, index = n_grams, columns = vocabulary)\n",
        "\n",
        "    return count_matrix\n",
        "\n",
        "\n"
      ],
      "execution_count": 24,
      "outputs": []
    },
    {
      "cell_type": "code",
      "metadata": {
        "id": "Cv6THWbME_Cc",
        "outputId": "e5cb6129-ceae-4acd-ca86-2cdf22a0a20d",
        "colab": {
          "base_uri": "https://localhost:8080/"
        }
      },
      "source": [
        "sentences = [['i', 'like', 'a', 'cat'],\n",
        "                 ['this', 'dog', 'is', 'like', 'a', 'cat']]\n",
        "\n",
        "unique_words = list(set(sentences[0] + sentences[1]))\n",
        "\n",
        "bigram_counts = count_n_grams(sentences, 2)\n",
        "\n",
        "print(make_count_matrix(bigram_counts, unique_words))"
      ],
      "execution_count": 25,
      "outputs": [
        {
          "output_type": "stream",
          "text": [
            "         cat  like    i  dog   is    a  this  <END>  <UNK>\n",
            "(this,)  0.0   0.0  0.0  1.0  0.0  0.0   0.0    0.0    0.0\n",
            "(a,)     2.0   0.0  0.0  0.0  0.0  0.0   0.0    0.0    0.0\n",
            "(like,)  0.0   0.0  0.0  0.0  0.0  2.0   0.0    0.0    0.0\n",
            "(<S>,)   0.0   0.0  1.0  0.0  0.0  0.0   1.0    0.0    0.0\n",
            "(cat,)   0.0   0.0  0.0  0.0  0.0  0.0   0.0    0.0    0.0\n",
            "(dog,)   0.0   0.0  0.0  0.0  1.0  0.0   0.0    0.0    0.0\n",
            "(i,)     0.0   1.0  0.0  0.0  0.0  0.0   0.0    0.0    0.0\n",
            "(is,)    0.0   1.0  0.0  0.0  0.0  0.0   0.0    0.0    0.0\n"
          ],
          "name": "stdout"
        }
      ]
    },
    {
      "cell_type": "code",
      "metadata": {
        "id": "fdoAL2pyGnMt",
        "outputId": "4315d289-4a65-4f37-9066-614165d9f8b4",
        "colab": {
          "base_uri": "https://localhost:8080/"
        }
      },
      "source": [
        "# Now try trigrams\n",
        "\n",
        "trigram_counts = count_n_grams(sentences, 3)\n",
        "\n",
        "print(make_count_matrix(trigram_counts, unique_words))"
      ],
      "execution_count": 26,
      "outputs": [
        {
          "output_type": "stream",
          "text": [
            "             cat  like    i  dog   is    a  this  <END>  <UNK>\n",
            "(<S>, <S>)   0.0   0.0  1.0  0.0  0.0  0.0   1.0    0.0    0.0\n",
            "(<S>, i)     0.0   1.0  0.0  0.0  0.0  0.0   0.0    0.0    0.0\n",
            "(i, like)    0.0   0.0  0.0  0.0  0.0  1.0   0.0    0.0    0.0\n",
            "(dog, is)    0.0   1.0  0.0  0.0  0.0  0.0   0.0    0.0    0.0\n",
            "(is, like)   0.0   0.0  0.0  0.0  0.0  1.0   0.0    0.0    0.0\n",
            "(<S>, this)  0.0   0.0  0.0  1.0  0.0  0.0   0.0    0.0    0.0\n",
            "(cat,)       0.0   0.0  0.0  0.0  0.0  0.0   0.0    0.0    0.0\n",
            "(this, dog)  0.0   0.0  0.0  0.0  1.0  0.0   0.0    0.0    0.0\n",
            "(a, cat)     0.0   0.0  0.0  0.0  0.0  0.0   0.0    0.0    0.0\n",
            "(like, a)    2.0   0.0  0.0  0.0  0.0  0.0   0.0    0.0    0.0\n"
          ],
          "name": "stdout"
        }
      ]
    },
    {
      "cell_type": "markdown",
      "metadata": {
        "id": "IXY0-clMHgaZ"
      },
      "source": [
        "### The following function calculates the probabilities of each word given the previous n-gram, and stores this in matrix form."
      ]
    },
    {
      "cell_type": "code",
      "metadata": {
        "id": "5hwaAWAKHini"
      },
      "source": [
        "def make_probability_matrix(n_plus1_counts, vocabulary, k):\n",
        "    count_matrix = make_count_matrix(n_plus1_counts, vocabulary)\n",
        "    count_matrix += k\n",
        "    prob_matrix = count_matrix.div(count_matrix.sum(axis = 1), axis = 0)\n",
        "\n",
        "    return prob_matrix\n",
        "\n"
      ],
      "execution_count": 27,
      "outputs": []
    },
    {
      "cell_type": "code",
      "metadata": {
        "id": "YMs0dUCRISLq",
        "outputId": "eebe0035-ec4c-4cb8-efd9-e6815739a712",
        "colab": {
          "base_uri": "https://localhost:8080/",
          "height": 314
        }
      },
      "source": [
        "sentences = [['i', 'like', 'a', 'cat'],\n",
        "                 ['this', 'dog', 'is', 'like', 'a', 'cat']]\n",
        "unique_words = list(set(sentences[0] + sentences[1]))\n",
        "bigram_counts = count_n_grams(sentences, 2)\n",
        "print(\"bigram probabilities\")\n",
        "display(make_probability_matrix(bigram_counts, unique_words, k = 1))"
      ],
      "execution_count": 28,
      "outputs": [
        {
          "output_type": "stream",
          "text": [
            "bigram probabilities\n"
          ],
          "name": "stdout"
        },
        {
          "output_type": "display_data",
          "data": {
            "text/html": [
              "<div>\n",
              "<style scoped>\n",
              "    .dataframe tbody tr th:only-of-type {\n",
              "        vertical-align: middle;\n",
              "    }\n",
              "\n",
              "    .dataframe tbody tr th {\n",
              "        vertical-align: top;\n",
              "    }\n",
              "\n",
              "    .dataframe thead th {\n",
              "        text-align: right;\n",
              "    }\n",
              "</style>\n",
              "<table border=\"1\" class=\"dataframe\">\n",
              "  <thead>\n",
              "    <tr style=\"text-align: right;\">\n",
              "      <th></th>\n",
              "      <th>cat</th>\n",
              "      <th>like</th>\n",
              "      <th>i</th>\n",
              "      <th>dog</th>\n",
              "      <th>is</th>\n",
              "      <th>a</th>\n",
              "      <th>this</th>\n",
              "      <th>&lt;END&gt;</th>\n",
              "      <th>&lt;UNK&gt;</th>\n",
              "    </tr>\n",
              "  </thead>\n",
              "  <tbody>\n",
              "    <tr>\n",
              "      <th>(this,)</th>\n",
              "      <td>0.100000</td>\n",
              "      <td>0.100000</td>\n",
              "      <td>0.100000</td>\n",
              "      <td>0.200000</td>\n",
              "      <td>0.100000</td>\n",
              "      <td>0.100000</td>\n",
              "      <td>0.100000</td>\n",
              "      <td>0.100000</td>\n",
              "      <td>0.100000</td>\n",
              "    </tr>\n",
              "    <tr>\n",
              "      <th>(a,)</th>\n",
              "      <td>0.272727</td>\n",
              "      <td>0.090909</td>\n",
              "      <td>0.090909</td>\n",
              "      <td>0.090909</td>\n",
              "      <td>0.090909</td>\n",
              "      <td>0.090909</td>\n",
              "      <td>0.090909</td>\n",
              "      <td>0.090909</td>\n",
              "      <td>0.090909</td>\n",
              "    </tr>\n",
              "    <tr>\n",
              "      <th>(like,)</th>\n",
              "      <td>0.090909</td>\n",
              "      <td>0.090909</td>\n",
              "      <td>0.090909</td>\n",
              "      <td>0.090909</td>\n",
              "      <td>0.090909</td>\n",
              "      <td>0.272727</td>\n",
              "      <td>0.090909</td>\n",
              "      <td>0.090909</td>\n",
              "      <td>0.090909</td>\n",
              "    </tr>\n",
              "    <tr>\n",
              "      <th>(&lt;S&gt;,)</th>\n",
              "      <td>0.090909</td>\n",
              "      <td>0.090909</td>\n",
              "      <td>0.181818</td>\n",
              "      <td>0.090909</td>\n",
              "      <td>0.090909</td>\n",
              "      <td>0.090909</td>\n",
              "      <td>0.181818</td>\n",
              "      <td>0.090909</td>\n",
              "      <td>0.090909</td>\n",
              "    </tr>\n",
              "    <tr>\n",
              "      <th>(cat,)</th>\n",
              "      <td>0.111111</td>\n",
              "      <td>0.111111</td>\n",
              "      <td>0.111111</td>\n",
              "      <td>0.111111</td>\n",
              "      <td>0.111111</td>\n",
              "      <td>0.111111</td>\n",
              "      <td>0.111111</td>\n",
              "      <td>0.111111</td>\n",
              "      <td>0.111111</td>\n",
              "    </tr>\n",
              "    <tr>\n",
              "      <th>(dog,)</th>\n",
              "      <td>0.100000</td>\n",
              "      <td>0.100000</td>\n",
              "      <td>0.100000</td>\n",
              "      <td>0.100000</td>\n",
              "      <td>0.200000</td>\n",
              "      <td>0.100000</td>\n",
              "      <td>0.100000</td>\n",
              "      <td>0.100000</td>\n",
              "      <td>0.100000</td>\n",
              "    </tr>\n",
              "    <tr>\n",
              "      <th>(i,)</th>\n",
              "      <td>0.100000</td>\n",
              "      <td>0.200000</td>\n",
              "      <td>0.100000</td>\n",
              "      <td>0.100000</td>\n",
              "      <td>0.100000</td>\n",
              "      <td>0.100000</td>\n",
              "      <td>0.100000</td>\n",
              "      <td>0.100000</td>\n",
              "      <td>0.100000</td>\n",
              "    </tr>\n",
              "    <tr>\n",
              "      <th>(is,)</th>\n",
              "      <td>0.100000</td>\n",
              "      <td>0.200000</td>\n",
              "      <td>0.100000</td>\n",
              "      <td>0.100000</td>\n",
              "      <td>0.100000</td>\n",
              "      <td>0.100000</td>\n",
              "      <td>0.100000</td>\n",
              "      <td>0.100000</td>\n",
              "      <td>0.100000</td>\n",
              "    </tr>\n",
              "  </tbody>\n",
              "</table>\n",
              "</div>"
            ],
            "text/plain": [
              "              cat      like         i  ...      this     <END>     <UNK>\n",
              "(this,)  0.100000  0.100000  0.100000  ...  0.100000  0.100000  0.100000\n",
              "(a,)     0.272727  0.090909  0.090909  ...  0.090909  0.090909  0.090909\n",
              "(like,)  0.090909  0.090909  0.090909  ...  0.090909  0.090909  0.090909\n",
              "(<S>,)   0.090909  0.090909  0.181818  ...  0.181818  0.090909  0.090909\n",
              "(cat,)   0.111111  0.111111  0.111111  ...  0.111111  0.111111  0.111111\n",
              "(dog,)   0.100000  0.100000  0.100000  ...  0.100000  0.100000  0.100000\n",
              "(i,)     0.100000  0.200000  0.100000  ...  0.100000  0.100000  0.100000\n",
              "(is,)    0.100000  0.200000  0.100000  ...  0.100000  0.100000  0.100000\n",
              "\n",
              "[8 rows x 9 columns]"
            ]
          },
          "metadata": {
            "tags": []
          }
        }
      ]
    },
    {
      "cell_type": "code",
      "metadata": {
        "id": "RytYHlc3IsR6",
        "outputId": "d4563a56-87c5-4353-c948-8252297a55f6",
        "colab": {
          "base_uri": "https://localhost:8080/",
          "height": 376
        }
      },
      "source": [
        "print(\"trigram probabilities\")\n",
        "trigram_counts = count_n_grams(sentences, 3)\n",
        "display(make_probability_matrix(trigram_counts, unique_words, k=1))"
      ],
      "execution_count": 29,
      "outputs": [
        {
          "output_type": "stream",
          "text": [
            "trigram probabilities\n"
          ],
          "name": "stdout"
        },
        {
          "output_type": "display_data",
          "data": {
            "text/html": [
              "<div>\n",
              "<style scoped>\n",
              "    .dataframe tbody tr th:only-of-type {\n",
              "        vertical-align: middle;\n",
              "    }\n",
              "\n",
              "    .dataframe tbody tr th {\n",
              "        vertical-align: top;\n",
              "    }\n",
              "\n",
              "    .dataframe thead th {\n",
              "        text-align: right;\n",
              "    }\n",
              "</style>\n",
              "<table border=\"1\" class=\"dataframe\">\n",
              "  <thead>\n",
              "    <tr style=\"text-align: right;\">\n",
              "      <th></th>\n",
              "      <th>cat</th>\n",
              "      <th>like</th>\n",
              "      <th>i</th>\n",
              "      <th>dog</th>\n",
              "      <th>is</th>\n",
              "      <th>a</th>\n",
              "      <th>this</th>\n",
              "      <th>&lt;END&gt;</th>\n",
              "      <th>&lt;UNK&gt;</th>\n",
              "    </tr>\n",
              "  </thead>\n",
              "  <tbody>\n",
              "    <tr>\n",
              "      <th>(&lt;S&gt;, &lt;S&gt;)</th>\n",
              "      <td>0.090909</td>\n",
              "      <td>0.090909</td>\n",
              "      <td>0.181818</td>\n",
              "      <td>0.090909</td>\n",
              "      <td>0.090909</td>\n",
              "      <td>0.090909</td>\n",
              "      <td>0.181818</td>\n",
              "      <td>0.090909</td>\n",
              "      <td>0.090909</td>\n",
              "    </tr>\n",
              "    <tr>\n",
              "      <th>(&lt;S&gt;, i)</th>\n",
              "      <td>0.100000</td>\n",
              "      <td>0.200000</td>\n",
              "      <td>0.100000</td>\n",
              "      <td>0.100000</td>\n",
              "      <td>0.100000</td>\n",
              "      <td>0.100000</td>\n",
              "      <td>0.100000</td>\n",
              "      <td>0.100000</td>\n",
              "      <td>0.100000</td>\n",
              "    </tr>\n",
              "    <tr>\n",
              "      <th>(i, like)</th>\n",
              "      <td>0.100000</td>\n",
              "      <td>0.100000</td>\n",
              "      <td>0.100000</td>\n",
              "      <td>0.100000</td>\n",
              "      <td>0.100000</td>\n",
              "      <td>0.200000</td>\n",
              "      <td>0.100000</td>\n",
              "      <td>0.100000</td>\n",
              "      <td>0.100000</td>\n",
              "    </tr>\n",
              "    <tr>\n",
              "      <th>(dog, is)</th>\n",
              "      <td>0.100000</td>\n",
              "      <td>0.200000</td>\n",
              "      <td>0.100000</td>\n",
              "      <td>0.100000</td>\n",
              "      <td>0.100000</td>\n",
              "      <td>0.100000</td>\n",
              "      <td>0.100000</td>\n",
              "      <td>0.100000</td>\n",
              "      <td>0.100000</td>\n",
              "    </tr>\n",
              "    <tr>\n",
              "      <th>(is, like)</th>\n",
              "      <td>0.100000</td>\n",
              "      <td>0.100000</td>\n",
              "      <td>0.100000</td>\n",
              "      <td>0.100000</td>\n",
              "      <td>0.100000</td>\n",
              "      <td>0.200000</td>\n",
              "      <td>0.100000</td>\n",
              "      <td>0.100000</td>\n",
              "      <td>0.100000</td>\n",
              "    </tr>\n",
              "    <tr>\n",
              "      <th>(&lt;S&gt;, this)</th>\n",
              "      <td>0.100000</td>\n",
              "      <td>0.100000</td>\n",
              "      <td>0.100000</td>\n",
              "      <td>0.200000</td>\n",
              "      <td>0.100000</td>\n",
              "      <td>0.100000</td>\n",
              "      <td>0.100000</td>\n",
              "      <td>0.100000</td>\n",
              "      <td>0.100000</td>\n",
              "    </tr>\n",
              "    <tr>\n",
              "      <th>(cat,)</th>\n",
              "      <td>0.111111</td>\n",
              "      <td>0.111111</td>\n",
              "      <td>0.111111</td>\n",
              "      <td>0.111111</td>\n",
              "      <td>0.111111</td>\n",
              "      <td>0.111111</td>\n",
              "      <td>0.111111</td>\n",
              "      <td>0.111111</td>\n",
              "      <td>0.111111</td>\n",
              "    </tr>\n",
              "    <tr>\n",
              "      <th>(this, dog)</th>\n",
              "      <td>0.100000</td>\n",
              "      <td>0.100000</td>\n",
              "      <td>0.100000</td>\n",
              "      <td>0.100000</td>\n",
              "      <td>0.200000</td>\n",
              "      <td>0.100000</td>\n",
              "      <td>0.100000</td>\n",
              "      <td>0.100000</td>\n",
              "      <td>0.100000</td>\n",
              "    </tr>\n",
              "    <tr>\n",
              "      <th>(a, cat)</th>\n",
              "      <td>0.111111</td>\n",
              "      <td>0.111111</td>\n",
              "      <td>0.111111</td>\n",
              "      <td>0.111111</td>\n",
              "      <td>0.111111</td>\n",
              "      <td>0.111111</td>\n",
              "      <td>0.111111</td>\n",
              "      <td>0.111111</td>\n",
              "      <td>0.111111</td>\n",
              "    </tr>\n",
              "    <tr>\n",
              "      <th>(like, a)</th>\n",
              "      <td>0.272727</td>\n",
              "      <td>0.090909</td>\n",
              "      <td>0.090909</td>\n",
              "      <td>0.090909</td>\n",
              "      <td>0.090909</td>\n",
              "      <td>0.090909</td>\n",
              "      <td>0.090909</td>\n",
              "      <td>0.090909</td>\n",
              "      <td>0.090909</td>\n",
              "    </tr>\n",
              "  </tbody>\n",
              "</table>\n",
              "</div>"
            ],
            "text/plain": [
              "                  cat      like         i  ...      this     <END>     <UNK>\n",
              "(<S>, <S>)   0.090909  0.090909  0.181818  ...  0.181818  0.090909  0.090909\n",
              "(<S>, i)     0.100000  0.200000  0.100000  ...  0.100000  0.100000  0.100000\n",
              "(i, like)    0.100000  0.100000  0.100000  ...  0.100000  0.100000  0.100000\n",
              "(dog, is)    0.100000  0.200000  0.100000  ...  0.100000  0.100000  0.100000\n",
              "(is, like)   0.100000  0.100000  0.100000  ...  0.100000  0.100000  0.100000\n",
              "(<S>, this)  0.100000  0.100000  0.100000  ...  0.100000  0.100000  0.100000\n",
              "(cat,)       0.111111  0.111111  0.111111  ...  0.111111  0.111111  0.111111\n",
              "(this, dog)  0.100000  0.100000  0.100000  ...  0.100000  0.100000  0.100000\n",
              "(a, cat)     0.111111  0.111111  0.111111  ...  0.111111  0.111111  0.111111\n",
              "(like, a)    0.272727  0.090909  0.090909  ...  0.090909  0.090909  0.090909\n",
              "\n",
              "[10 rows x 9 columns]"
            ]
          },
          "metadata": {
            "tags": []
          }
        }
      ]
    },
    {
      "cell_type": "markdown",
      "metadata": {
        "id": "Xo6GYhc396Wp"
      },
      "source": [
        "## Part 3: Perplexity\n",
        "In this section, you will generate the perplexity score to evaluate your model on the test set.\n",
        "\n",
        "You will also use back-off when needed.\n",
        "Perplexity is used as an evaluation metric of your language model.\n",
        "To calculate the the perplexity score of the test set on an n-gram model, use:\n",
        "\n",
        "$$ PP(W) =\\sqrt[N]{ \\prod_{t=n+1}^N \\frac{1}{P(w_t | w_{t-n} \\cdots w_{t-1})} } \\tag{4}$$\n",
        "\n",
        "where:\n",
        "* $N$ is the length of the sentence.\n",
        "* $n$ is the number of words in the n-gram (e.g. 2 for a bigram).\n",
        "* In math, the numbering starts at one and not zero.\n",
        "* In code, array indexing starts at zero, so the code will use ranges for $t$ according to this formula:\n",
        "\n",
        "$$ PP(W) =\\sqrt[N]{ \\prod_{t=n}^{N-1} \\frac{1}{P(w_t | w_{t-n} \\cdots w_{t-1})} } \\tag{4.1}$$\n",
        "\n",
        "The higher the probabilities are, the lower the perplexity will be.\n",
        "\n",
        "The more the n-grams tell us about the sentence, the lower the perplexity score will be."
      ]
    },
    {
      "cell_type": "markdown",
      "metadata": {
        "id": "59Kw8ZtP-OIr"
      },
      "source": [
        "## Exercise 10\n",
        "Compute the perplexity score given an N-gram count matrix and a sentence.\n",
        "\n",
        "Remember that range(2,4) produces the integers [2, 3] (and excludes 4)."
      ]
    },
    {
      "cell_type": "code",
      "metadata": {
        "id": "dteKlOF-Awup"
      },
      "source": [
        "def calculate_perplexity(my_sentences, ngram_counts, n_plus1_gram_counts, vocabulary_size, k = 1):\n",
        "    \"\"\"\n",
        "    Calculate perplexity according to equation above\n",
        "\n",
        "    Input:\n",
        "      Sentence is a list of strings that we want to calculate perplexity on\n",
        "      ngram_counts, n_plus1_counts, the dictionaries with keys being n_grams and values being counts\n",
        "      Vocabulary size: size of vocab, number\n",
        "      k for smoothing\n",
        "    Output:\n",
        "      Perplexity score    \n",
        "    \"\"\"\n",
        "    # Length of previous word\n",
        "    n = len(list(ngram_counts.keys())[0])\n",
        "\n",
        "    # Add <S> and <END>\n",
        "    my_sentences = [\"<S>\"] * n + my_sentences + [\"<END>\"]\n",
        "\n",
        "    # Cast sentences from list to tuples\n",
        "    my_sentences = tuple(my_sentences)\n",
        "\n",
        "    N = len(my_sentences)\n",
        "\n",
        "    # The variable product will hold the transient result\n",
        "    product = 1.0\n",
        "\n",
        "    for t in range(n, N):\n",
        "        n_gram = my_sentences[t-n:n]\n",
        "        word = my_sentences[t]\n",
        "\n",
        "        probability = estimate_probability(word, n_gram, ngram_counts, n_plus1_gram_counts, vocabulary_size, k)\n",
        "\n",
        "        product *= 1/probability\n",
        "\n",
        "    perplexity = product ** (1/float(N))\n",
        "\n",
        "    return perplexity"
      ],
      "execution_count": 34,
      "outputs": []
    },
    {
      "cell_type": "code",
      "metadata": {
        "id": "5oaAlL_NHPqo",
        "outputId": "80c4bbc4-ccba-4b57-a784-195009bdf561",
        "colab": {
          "base_uri": "https://localhost:8080/"
        }
      },
      "source": [
        "sentences = [['i', 'like', 'a', 'cat'],\n",
        "                 ['this', 'dog', 'is', 'like', 'a', 'cat']]\n",
        "\n",
        "unique_words = list(set(sentences[0] + sentences[1]))\n",
        "\n",
        "unigram_counts = count_n_grams(sentences, 1)\n",
        "bigram_counts = count_n_grams(sentences, 2)\n",
        "\n",
        "perplexity_train_1 = calculate_perplexity(sentences[0], unigram_counts, bigram_counts, len(unique_words))\n",
        "\n",
        "\n",
        "test_sentence = ['i', 'like', 'a', 'dog']\n",
        "\n",
        "perplexity_train_2 = calculate_perplexity(test_sentence, unigram_counts, bigram_counts, len(unique_words))\n",
        "\n",
        "print(f\"Perplexity score 1 = {perplexity_train_1:.4f}\")\n",
        "print(f\"Perplexity score 2 = {perplexity_train_2:.4f}\")"
      ],
      "execution_count": 35,
      "outputs": [
        {
          "output_type": "stream",
          "text": [
            "Perplexity score 1 = 4.7018\n",
            "Perplexity score 2 = 4.7018\n"
          ],
          "name": "stdout"
        }
      ]
    },
    {
      "cell_type": "markdown",
      "metadata": {
        "id": "sgW9reJC-pUP"
      },
      "source": [
        "#Part 4: Build an auto-complete system\n",
        "In this section, you will combine the language models developed so far to implement an auto-complete system."
      ]
    },
    {
      "cell_type": "markdown",
      "metadata": {
        "id": "ZWct0rRv-tyB"
      },
      "source": [
        "## Exercise 11\n",
        "Compute probabilities for all possible next words and suggest the most likely one.\n",
        "\n",
        "This function also take an optional argument start_with, which specifies the first few letters of the next words.\n",
        "* estimate_probabilities returns a dictionary where the key is a word and the value is the word's probability.\n",
        "* Use str1.startswith(str2) to determine if a string starts with the letters of another string. For example, 'learning'.startswith('lea') returns True, whereas 'learning'.startswith('ear') returns False.\n",
        "\n",
        "There are two additional parameters in str.startswith(), but you can use the default values for those parameters in this case."
      ]
    },
    {
      "cell_type": "code",
      "metadata": {
        "id": "_Sddm9AH-_St"
      },
      "source": [
        "def suggest_a_word(previous_tokens, n_gram_counts, n_plus1_gram_counts, vocabulary, k = 1, start_with = None):\n",
        "    \"\"\"\n",
        "    Suggest the next word\n",
        "    Inputs:\n",
        "      Previous tokens: Sentence. each token is a word.\n",
        "      n_gram_counts, n_plus1_gram_counts are dictionaries. Keys are n-grams, values are counts\n",
        "      vocabulary: list of unique words\n",
        "      If not None, starting letters of word\n",
        "\n",
        "    Output:\n",
        "      Tuple: Next word and probability\n",
        "    \"\"\"\n",
        "\n",
        "    n = len(list(n_gram_counts.keys())[0])\n",
        "\n",
        "    # Find the words that have already been typed by the user\n",
        "    prev_n_gram = previous_tokens[-n:]\n",
        "\n",
        "    # Estimate the probabilities of the next word using n_plus1_grams\n",
        "    probabilities = estimate_probability(previous_tokens, n_gram_counts, n_plus1_gram_counts, len(vocabulary), k)\n",
        "\n",
        "    # Initialize suggestion to None and max prob to 0\n",
        "    suggestion = None\n",
        "    max_prob = 0\n",
        "\n",
        "    for word, prob in probabilities.items():\n",
        "        if start_with != None:\n",
        "            if not word.startswith(start_with):\n",
        "                continue # If the word doesn´t start with the letters I want, discard\n",
        "\n",
        "            else:\n",
        "                if prob > max_prob:\n",
        "                    max_prob = prob\n",
        "                    suggestion = word\n",
        "\n",
        "    return(word, max_prob)\n",
        "\n"
      ],
      "execution_count": 43,
      "outputs": []
    },
    {
      "cell_type": "code",
      "metadata": {
        "id": "YGSE_mn8Cw_M",
        "outputId": "a835ffff-8c1a-4dfd-a531-6bf80de473b0",
        "colab": {
          "base_uri": "https://localhost:8080/",
          "height": 374
        }
      },
      "source": [
        "# test your code\n",
        "sentences = [['i', 'like', 'a', 'cat'],\n",
        "             ['this', 'dog', 'is', 'like', 'a', 'cat']]\n",
        "unique_words = list(set(sentences[0] + sentences[1]))\n",
        "\n",
        "unigram_counts = count_n_grams(sentences, 1)\n",
        "bigram_counts = count_n_grams(sentences, 2)\n",
        "\n",
        "previous_tokens = [\"i\", \"like\"]\n",
        "\n",
        "tmp_suggest = suggest_a_word(previous_tokens, unigram_counts, bigram_counts, unique_words)\n",
        "\n",
        "print(f\"The previous words are i, like\\n the suggested word is {tmp_suggest[0]} and the probability is {tmp_suggest[1]:.4f}\")\n",
        "\n"
      ],
      "execution_count": 44,
      "outputs": [
        {
          "output_type": "error",
          "ename": "TypeError",
          "evalue": "ignored",
          "traceback": [
            "\u001b[0;31m---------------------------------------------------------------------------\u001b[0m",
            "\u001b[0;31mTypeError\u001b[0m                                 Traceback (most recent call last)",
            "\u001b[0;32m<ipython-input-44-28237919da4b>\u001b[0m in \u001b[0;36m<module>\u001b[0;34m()\u001b[0m\n\u001b[1;32m      9\u001b[0m \u001b[0mprevious_tokens\u001b[0m \u001b[0;34m=\u001b[0m \u001b[0;34m[\u001b[0m\u001b[0;34m\"i\"\u001b[0m\u001b[0;34m,\u001b[0m \u001b[0;34m\"like\"\u001b[0m\u001b[0;34m]\u001b[0m\u001b[0;34m\u001b[0m\u001b[0;34m\u001b[0m\u001b[0m\n\u001b[1;32m     10\u001b[0m \u001b[0;34m\u001b[0m\u001b[0m\n\u001b[0;32m---> 11\u001b[0;31m \u001b[0mtmp_suggest\u001b[0m \u001b[0;34m=\u001b[0m \u001b[0msuggest_a_word\u001b[0m\u001b[0;34m(\u001b[0m\u001b[0mprevious_tokens\u001b[0m\u001b[0;34m,\u001b[0m \u001b[0munigram_counts\u001b[0m\u001b[0;34m,\u001b[0m \u001b[0mbigram_counts\u001b[0m\u001b[0;34m,\u001b[0m \u001b[0munique_words\u001b[0m\u001b[0;34m)\u001b[0m\u001b[0;34m\u001b[0m\u001b[0;34m\u001b[0m\u001b[0m\n\u001b[0m\u001b[1;32m     12\u001b[0m \u001b[0;34m\u001b[0m\u001b[0m\n\u001b[1;32m     13\u001b[0m \u001b[0mprint\u001b[0m\u001b[0;34m(\u001b[0m\u001b[0;34mf\"The previous words are i, like\\n the suggested word is {tmp_suggest[0]} and the probability is {tmp_suggest[1]:.4f}\"\u001b[0m\u001b[0;34m)\u001b[0m\u001b[0;34m\u001b[0m\u001b[0;34m\u001b[0m\u001b[0m\n",
            "\u001b[0;32m<ipython-input-43-7d933d3aa93b>\u001b[0m in \u001b[0;36msuggest_a_word\u001b[0;34m(previous_tokens, n_gram_counts, n_plus1_gram_counts, vocabulary, k, start_with)\u001b[0m\n\u001b[1;32m     18\u001b[0m \u001b[0;34m\u001b[0m\u001b[0m\n\u001b[1;32m     19\u001b[0m     \u001b[0;31m# Estimate the probabilities of the next word using n_plus1_grams\u001b[0m\u001b[0;34m\u001b[0m\u001b[0;34m\u001b[0m\u001b[0;34m\u001b[0m\u001b[0m\n\u001b[0;32m---> 20\u001b[0;31m     \u001b[0mprobabilities\u001b[0m \u001b[0;34m=\u001b[0m \u001b[0mestimate_probability\u001b[0m\u001b[0;34m(\u001b[0m\u001b[0mprevious_tokens\u001b[0m\u001b[0;34m,\u001b[0m \u001b[0mn_gram_counts\u001b[0m\u001b[0;34m,\u001b[0m \u001b[0mn_plus1_gram_counts\u001b[0m\u001b[0;34m,\u001b[0m \u001b[0mlen\u001b[0m\u001b[0;34m(\u001b[0m\u001b[0mvocabulary\u001b[0m\u001b[0;34m)\u001b[0m\u001b[0;34m,\u001b[0m \u001b[0mk\u001b[0m\u001b[0;34m)\u001b[0m\u001b[0;34m\u001b[0m\u001b[0;34m\u001b[0m\u001b[0m\n\u001b[0m\u001b[1;32m     21\u001b[0m \u001b[0;34m\u001b[0m\u001b[0m\n\u001b[1;32m     22\u001b[0m     \u001b[0;31m# Initialize suggestion to None and max prob to 0\u001b[0m\u001b[0;34m\u001b[0m\u001b[0;34m\u001b[0m\u001b[0;34m\u001b[0m\u001b[0m\n",
            "\u001b[0;32m<ipython-input-20-f226538b5a9f>\u001b[0m in \u001b[0;36mestimate_probability\u001b[0;34m(word, previous_ngram, n_gram_counts, n_plus1_gram_counts, vocab_size, k)\u001b[0m\n\u001b[1;32m     27\u001b[0m \u001b[0;34m\u001b[0m\u001b[0m\n\u001b[1;32m     28\u001b[0m     \u001b[0;31m# Same procedure as before:\u001b[0m\u001b[0;34m\u001b[0m\u001b[0;34m\u001b[0m\u001b[0;34m\u001b[0m\u001b[0m\n\u001b[0;32m---> 29\u001b[0;31m     \u001b[0mn_plus1_gram_count\u001b[0m \u001b[0;34m=\u001b[0m \u001b[0mn_plus1_gram_counts\u001b[0m\u001b[0;34m[\u001b[0m\u001b[0mn_plus1_gram\u001b[0m\u001b[0;34m]\u001b[0m \u001b[0;32mif\u001b[0m \u001b[0mn_plus1_gram\u001b[0m \u001b[0;32min\u001b[0m \u001b[0mn_plus1_gram_counts\u001b[0m \u001b[0;32melse\u001b[0m \u001b[0;36m0\u001b[0m\u001b[0;34m\u001b[0m\u001b[0;34m\u001b[0m\u001b[0m\n\u001b[0m\u001b[1;32m     30\u001b[0m \u001b[0;34m\u001b[0m\u001b[0m\n\u001b[1;32m     31\u001b[0m     \u001b[0mnumerator\u001b[0m \u001b[0;34m=\u001b[0m \u001b[0mn_plus1_gram_count\u001b[0m \u001b[0;34m+\u001b[0m \u001b[0mk\u001b[0m\u001b[0;34m\u001b[0m\u001b[0;34m\u001b[0m\u001b[0m\n",
            "\u001b[0;31mTypeError\u001b[0m: argument of type 'int' is not iterable"
          ]
        }
      ]
    }
  ]
}